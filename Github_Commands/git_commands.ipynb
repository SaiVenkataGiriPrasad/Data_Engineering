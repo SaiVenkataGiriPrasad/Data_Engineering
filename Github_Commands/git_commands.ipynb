{
 "cells": [
  {
   "cell_type": "code",
   "execution_count": null,
   "metadata": {},
   "outputs": [],
   "source": [
    "git init\n",
    "git remote add origin \"url\"\n",
    "git pull origin main\n",
    "git status\n"
   ]
  },
  {
   "cell_type": "code",
   "execution_count": null,
   "metadata": {},
   "outputs": [],
   "source": [
    "git add .\n",
    "git commit -m \"commit message\"\n",
    "git push origin main\n",
    "git fetch origin main # This will download the lastest changes form the remote branch without merging them into your local brach.\n",
    "git merge origin/main # merges the changes from the remote branch into local branch\n",
    "git rebase origin/main # rebase the local changes on to the remote branch"
   ]
  }
 ],
 "metadata": {
  "kernelspec": {
   "display_name": "Python 3.9.6 64-bit",
   "language": "python",
   "name": "python3"
  },
  "language_info": {
   "name": "python",
   "version": "3.9.6"
  },
  "orig_nbformat": 4,
  "vscode": {
   "interpreter": {
    "hash": "31f2aee4e71d21fbe5cf8b01ff0e069b9275f58929596ceb00d14d90e3e16cd6"
   }
  }
 },
 "nbformat": 4,
 "nbformat_minor": 2
}
