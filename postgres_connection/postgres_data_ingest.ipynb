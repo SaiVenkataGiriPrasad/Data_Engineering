{
 "cells": [
  {
   "cell_type": "markdown",
   "metadata": {},
   "source": [
    "Connect to RDS Postgres Database"
   ]
  },
  {
   "cell_type": "code",
   "execution_count": 1,
   "metadata": {},
   "outputs": [],
   "source": [
    "'''\n",
    "-- boto3 is the Amazon Web Services (AWS) SDK for Python, which allows Python developers to write software that makes use of services like Amazon S3 and Amazon EC2.\n",
    "\n",
    "-- json is a Python library for working with JavaScript Object Notation (JSON) data. \n",
    "JSON is a popular data interchange format used in web applications and APIs. \n",
    "Python's json library provides functions for encoding and decoding JSON data, making it easy to work with JSON data in Python.\n",
    "\n",
    "-- pandas is a Python library for data manipulation and analysis. It provides data structures for efficiently storing and processing large amounts of data.\n",
    "Pandas is particularly useful for data preprocessing, cleaning, and exploration, as well as for data visualization and analysis.\n",
    "\n",
    "-- SQLAlchemy is a Python library for working with SQL databases. It provides a set of high-level API for connecting to and interacting with databases.\n",
    "SQLAlchemy supports multiple database backends, including PostgreSQL, MySQL, and SQLite, and provides a set of tools for database schema definition, query construction, and data manipulation.\n",
    "\n",
    "-- psycopg2 is a PostgreSQL adapter for the Python programming language, which allows Python programs to access a PostgreSQL database.\n",
    "It provides a low-level interface for working with PostgreSQL, allowing developers to execute SQL queries, manage transactions, and interact with database objects. psycopg2 is widely used in Python web applications and data analysis projects that require PostgreSQL integration.\n",
    "'''\n",
    "\n",
    "import boto3\n",
    "import json\n",
    "import pandas as pd\n",
    "from sqlalchemy import create_engine\n",
    "import psycopg2"
   ]
  },
  {
   "cell_type": "code",
   "execution_count": null,
   "metadata": {},
   "outputs": [],
   "source": []
  }
 ],
 "metadata": {
  "kernelspec": {
   "display_name": "Python 3.9.6 64-bit",
   "language": "python",
   "name": "python3"
  },
  "language_info": {
   "codemirror_mode": {
    "name": "ipython",
    "version": 3
   },
   "file_extension": ".py",
   "mimetype": "text/x-python",
   "name": "python",
   "nbconvert_exporter": "python",
   "pygments_lexer": "ipython3",
   "version": "3.9.6"
  },
  "orig_nbformat": 4,
  "vscode": {
   "interpreter": {
    "hash": "31f2aee4e71d21fbe5cf8b01ff0e069b9275f58929596ceb00d14d90e3e16cd6"
   }
  }
 },
 "nbformat": 4,
 "nbformat_minor": 2
}
